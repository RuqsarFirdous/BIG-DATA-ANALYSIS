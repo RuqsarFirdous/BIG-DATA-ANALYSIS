{
  "nbformat": 4,
  "nbformat_minor": 0,
  "metadata": {
    "colab": {
      "provenance": [],
      "authorship_tag": "ABX9TyNwpCCNwhGThU7WqbQIHi89",
      "include_colab_link": true
    },
    "kernelspec": {
      "name": "python3",
      "display_name": "Python 3"
    },
    "language_info": {
      "name": "python"
    }
  },
  "cells": [
    {
      "cell_type": "markdown",
      "metadata": {
        "id": "view-in-github",
        "colab_type": "text"
      },
      "source": [
        "<a href=\"https://colab.research.google.com/github/RuqsarFirdous/BIG-DATA-ANALYSIS/blob/main/task1.ipynb\" target=\"_parent\"><img src=\"https://colab.research.google.com/assets/colab-badge.svg\" alt=\"Open In Colab\"/></a>"
      ]
    },
    {
      "cell_type": "code",
      "execution_count": 1,
      "metadata": {
        "colab": {
          "base_uri": "https://localhost:8080/"
        },
        "id": "H2tFiPEmffnV",
        "outputId": "69141a8e-aec8-4c35-c5fe-627ad66a3d93"
      },
      "outputs": [
        {
          "output_type": "stream",
          "name": "stdout",
          "text": [
            "Requirement already satisfied: pyspark in /usr/local/lib/python3.11/dist-packages (3.5.1)\n",
            "Requirement already satisfied: py4j==0.10.9.7 in /usr/local/lib/python3.11/dist-packages (from pyspark) (0.10.9.7)\n"
          ]
        }
      ],
      "source": [
        "# Install PySpark\n",
        "!pip install pyspark"
      ]
    },
    {
      "cell_type": "code",
      "source": [
        "from pyspark.sql import SparkSession"
      ],
      "metadata": {
        "id": "O7oFYTo9vJo2"
      },
      "execution_count": 4,
      "outputs": []
    },
    {
      "cell_type": "code",
      "source": [
        "# Create Spark session\n",
        "spark=SparkSession.builder.appName(\"FlightDelayAnalysis\").getOrCreate()"
      ],
      "metadata": {
        "id": "0zx1tBpHvbpF"
      },
      "execution_count": 5,
      "outputs": []
    },
    {
      "cell_type": "markdown",
      "source": [
        "## 📂 Data Loaded\n",
        "We are using 3 datasets:\n",
        "- **Flights**: flight details with airline code, delays, airports.\n",
        "- **Airlines**: airline code and full name.\n",
        "- **Airports**: airport codes, city, state.\n"
      ],
      "metadata": {
        "id": "5J1ICERHJGRM"
      }
    },
    {
      "cell_type": "code",
      "source": [
        "# Load flights data\n",
        "flights_df=spark.read.csv(\"flights.csv\",header=True,inferSchema=True)"
      ],
      "metadata": {
        "id": "C_eOSsmOv2JM"
      },
      "execution_count": 7,
      "outputs": []
    },
    {
      "cell_type": "code",
      "source": [
        "# Load airlines data\n",
        "airlines_df=spark.read.csv(\"airlines.csv\",header=True,inferSchema=True)"
      ],
      "metadata": {
        "id": "D0VNQcEqwN-F"
      },
      "execution_count": 8,
      "outputs": []
    },
    {
      "cell_type": "code",
      "source": [
        "# Load airports data\n",
        "airports_df=spark.read.csv(\"airports.csv\",header=True,inferSchema=True)"
      ],
      "metadata": {
        "id": "kXGBbjNLw3c5"
      },
      "execution_count": 10,
      "outputs": []
    },
    {
      "cell_type": "code",
      "source": [
        "print(\"Flights Data:\")\n",
        "flights_df.show(5)"
      ],
      "metadata": {
        "colab": {
          "base_uri": "https://localhost:8080/"
        },
        "id": "jL5GPvEow5vO",
        "outputId": "1fbb8dfe-ef5e-4b85-ab16-cc8b77225664"
      },
      "execution_count": 14,
      "outputs": [
        {
          "output_type": "stream",
          "name": "stdout",
          "text": [
            "Flights Data:\n",
            "+----+-----+---+-----------+-------+-------------+-----------+--------------+-------------------+-------------------+--------------+---------------+--------+----------+--------------+------------+--------+--------+---------+-------+-----------------+------------+-------------+--------+---------+-------------------+----------------+--------------+-------------+-------------------+-------------+\n",
            "|YEAR|MONTH|DAY|DAY_OF_WEEK|AIRLINE|FLIGHT_NUMBER|TAIL_NUMBER|ORIGIN_AIRPORT|DESTINATION_AIRPORT|SCHEDULED_DEPARTURE|DEPARTURE_TIME|DEPARTURE_DELAY|TAXI_OUT|WHEELS_OFF|SCHEDULED_TIME|ELAPSED_TIME|AIR_TIME|DISTANCE|WHEELS_ON|TAXI_IN|SCHEDULED_ARRIVAL|ARRIVAL_TIME|ARRIVAL_DELAY|DIVERTED|CANCELLED|CANCELLATION_REASON|AIR_SYSTEM_DELAY|SECURITY_DELAY|AIRLINE_DELAY|LATE_AIRCRAFT_DELAY|WEATHER_DELAY|\n",
            "+----+-----+---+-----------+-------+-------------+-----------+--------------+-------------------+-------------------+--------------+---------------+--------+----------+--------------+------------+--------+--------+---------+-------+-----------------+------------+-------------+--------+---------+-------------------+----------------+--------------+-------------+-------------------+-------------+\n",
            "|2015|    1|  1|          4|     AS|           98|     N407AS|           ANC|                SEA|                  5|          2354|            -11|      21|        15|           205|         194|     169|    1448|      404|      4|              430|         408|          -22|       0|        0|               NULL|            NULL|          NULL|         NULL|               NULL|         NULL|\n",
            "|2015|    1|  1|          4|     AA|         2336|     N3KUAA|           LAX|                PBI|                 10|             2|             -8|      12|        14|           280|         279|     263|    2330|      737|      4|              750|         741|           -9|       0|        0|               NULL|            NULL|          NULL|         NULL|               NULL|         NULL|\n",
            "|2015|    1|  1|          4|     US|          840|     N171US|           SFO|                CLT|                 20|            18|             -2|      16|        34|           286|         293|     266|    2296|      800|     11|              806|         811|            5|       0|        0|               NULL|            NULL|          NULL|         NULL|               NULL|         NULL|\n",
            "|2015|    1|  1|          4|     AA|          258|     N3HYAA|           LAX|                MIA|                 20|            15|             -5|      15|        30|           285|         281|     258|    2342|      748|      8|              805|         756|           -9|       0|        0|               NULL|            NULL|          NULL|         NULL|               NULL|         NULL|\n",
            "|2015|    1|  1|          4|     AS|          135|     N527AS|           SEA|                ANC|                 25|            24|             -1|      11|        35|           235|         215|     199|    1448|      254|      5|              320|         259|          -21|       0|        0|               NULL|            NULL|          NULL|         NULL|               NULL|         NULL|\n",
            "+----+-----+---+-----------+-------+-------------+-----------+--------------+-------------------+-------------------+--------------+---------------+--------+----------+--------------+------------+--------+--------+---------+-------+-----------------+------------+-------------+--------+---------+-------------------+----------------+--------------+-------------+-------------------+-------------+\n",
            "only showing top 5 rows\n",
            "\n"
          ]
        }
      ]
    },
    {
      "cell_type": "code",
      "source": [
        "print(\"Airlines data:\")\n",
        "airlines_df.show(5)"
      ],
      "metadata": {
        "colab": {
          "base_uri": "https://localhost:8080/"
        },
        "id": "NKKGXue3xTJB",
        "outputId": "c30fe736-971b-42cd-80a4-141250954114"
      },
      "execution_count": 15,
      "outputs": [
        {
          "output_type": "stream",
          "name": "stdout",
          "text": [
            "Airlines data:\n",
            "+---------+--------------------+\n",
            "|IATA_CODE|             AIRLINE|\n",
            "+---------+--------------------+\n",
            "|       UA|United Air Lines ...|\n",
            "|       AA|American Airlines...|\n",
            "|       US|     US Airways Inc.|\n",
            "|       F9|Frontier Airlines...|\n",
            "|       B6|     JetBlue Airways|\n",
            "+---------+--------------------+\n",
            "only showing top 5 rows\n",
            "\n"
          ]
        }
      ]
    },
    {
      "cell_type": "code",
      "source": [
        "print(\"Airports data:\")\n",
        "airports_df.show(5)"
      ],
      "metadata": {
        "colab": {
          "base_uri": "https://localhost:8080/"
        },
        "id": "y8_vDn5Vxlkj",
        "outputId": "7c678f19-c854-4f92-dbc7-566fe1f599c9"
      },
      "execution_count": 16,
      "outputs": [
        {
          "output_type": "stream",
          "name": "stdout",
          "text": [
            "Airports data:\n",
            "+---------+--------------------+-----------+-----+-------+--------+----------+\n",
            "|IATA_CODE|             AIRPORT|       CITY|STATE|COUNTRY|LATITUDE| LONGITUDE|\n",
            "+---------+--------------------+-----------+-----+-------+--------+----------+\n",
            "|      ABE|Lehigh Valley Int...|  Allentown|   PA|    USA|40.65236|  -75.4404|\n",
            "|      ABI|Abilene Regional ...|    Abilene|   TX|    USA|32.41132|  -99.6819|\n",
            "|      ABQ|Albuquerque Inter...|Albuquerque|   NM|    USA|35.04022|-106.60919|\n",
            "|      ABR|Aberdeen Regional...|   Aberdeen|   SD|    USA|45.44906| -98.42183|\n",
            "|      ABY|Southwest Georgia...|     Albany|   GA|    USA|31.53552| -84.19447|\n",
            "+---------+--------------------+-----------+-----+-------+--------+----------+\n",
            "only showing top 5 rows\n",
            "\n"
          ]
        }
      ]
    },
    {
      "cell_type": "code",
      "source": [
        "print(\"Flights Schema:\")\n",
        "flights_df.printSchema()"
      ],
      "metadata": {
        "colab": {
          "base_uri": "https://localhost:8080/"
        },
        "id": "wq53-ZNIxqCS",
        "outputId": "af9e860d-16dc-4efb-d3d7-3caab04b6203"
      },
      "execution_count": 17,
      "outputs": [
        {
          "output_type": "stream",
          "name": "stdout",
          "text": [
            "Flights Schema:\n",
            "root\n",
            " |-- YEAR: integer (nullable = true)\n",
            " |-- MONTH: integer (nullable = true)\n",
            " |-- DAY: integer (nullable = true)\n",
            " |-- DAY_OF_WEEK: integer (nullable = true)\n",
            " |-- AIRLINE: string (nullable = true)\n",
            " |-- FLIGHT_NUMBER: integer (nullable = true)\n",
            " |-- TAIL_NUMBER: string (nullable = true)\n",
            " |-- ORIGIN_AIRPORT: string (nullable = true)\n",
            " |-- DESTINATION_AIRPORT: string (nullable = true)\n",
            " |-- SCHEDULED_DEPARTURE: integer (nullable = true)\n",
            " |-- DEPARTURE_TIME: integer (nullable = true)\n",
            " |-- DEPARTURE_DELAY: integer (nullable = true)\n",
            " |-- TAXI_OUT: integer (nullable = true)\n",
            " |-- WHEELS_OFF: integer (nullable = true)\n",
            " |-- SCHEDULED_TIME: integer (nullable = true)\n",
            " |-- ELAPSED_TIME: integer (nullable = true)\n",
            " |-- AIR_TIME: integer (nullable = true)\n",
            " |-- DISTANCE: integer (nullable = true)\n",
            " |-- WHEELS_ON: integer (nullable = true)\n",
            " |-- TAXI_IN: integer (nullable = true)\n",
            " |-- SCHEDULED_ARRIVAL: integer (nullable = true)\n",
            " |-- ARRIVAL_TIME: integer (nullable = true)\n",
            " |-- ARRIVAL_DELAY: integer (nullable = true)\n",
            " |-- DIVERTED: integer (nullable = true)\n",
            " |-- CANCELLED: integer (nullable = true)\n",
            " |-- CANCELLATION_REASON: string (nullable = true)\n",
            " |-- AIR_SYSTEM_DELAY: integer (nullable = true)\n",
            " |-- SECURITY_DELAY: integer (nullable = true)\n",
            " |-- AIRLINE_DELAY: integer (nullable = true)\n",
            " |-- LATE_AIRCRAFT_DELAY: integer (nullable = true)\n",
            " |-- WEATHER_DELAY: integer (nullable = true)\n",
            "\n"
          ]
        }
      ]
    },
    {
      "cell_type": "markdown",
      "source": [
        "## ✈️ Join Flights + Airlines\n",
        "We join flights with airline names to get readable airline names for analysis.\n"
      ],
      "metadata": {
        "id": "NwJTBNlUx8uj"
      }
    },
    {
      "cell_type": "code",
      "source": [
        "from pyspark.sql.functions import col\n",
        "\n",
        "flights_with_airline = flights_df.join(\n",
        "    airlines_df,\n",
        "    flights_df.AIRLINE == airlines_df.IATA_CODE,\n",
        "    how=\"left\"\n",
        ")\n",
        "\n",
        "flights_with_airline=flights_with_airline.select(\n",
        "    flights_df.AIRLINE.alias(\"AIRLINE_CODE\"),\n",
        "    airlines_df.AIRLINE.alias(\"AIRLINE_NAME\"),\n",
        "    flights_df.ORIGIN_AIRPORT,\n",
        "    flights_df.DESTINATION_AIRPORT,\n",
        "    flights_df.DEPARTURE_DELAY,\n",
        "    flights_df.ARRIVAL_DELAY\n",
        ")\n",
        "\n",
        "flights_with_airline.show(5)\n"
      ],
      "metadata": {
        "colab": {
          "base_uri": "https://localhost:8080/"
        },
        "id": "Rtsp3iL3xvDy",
        "outputId": "5cf18b6b-ab94-4045-af42-a18380a9c7f8"
      },
      "execution_count": 23,
      "outputs": [
        {
          "output_type": "stream",
          "name": "stdout",
          "text": [
            "+------------+--------------------+--------------+-------------------+---------------+-------------+\n",
            "|AIRLINE_CODE|        AIRLINE_NAME|ORIGIN_AIRPORT|DESTINATION_AIRPORT|DEPARTURE_DELAY|ARRIVAL_DELAY|\n",
            "+------------+--------------------+--------------+-------------------+---------------+-------------+\n",
            "|          AS|Alaska Airlines Inc.|           ANC|                SEA|            -11|          -22|\n",
            "|          AA|American Airlines...|           LAX|                PBI|             -8|           -9|\n",
            "|          US|     US Airways Inc.|           SFO|                CLT|             -2|            5|\n",
            "|          AA|American Airlines...|           LAX|                MIA|             -5|           -9|\n",
            "|          AS|Alaska Airlines Inc.|           SEA|                ANC|             -1|          -21|\n",
            "+------------+--------------------+--------------+-------------------+---------------+-------------+\n",
            "only showing top 5 rows\n",
            "\n"
          ]
        }
      ]
    },
    {
      "cell_type": "markdown",
      "source": [
        "## 🛫 Join + Airports\n",
        "Next, we join airports to add the **city** and **state** for each flight's origin airport.\n"
      ],
      "metadata": {
        "id": "HDwl1aGE9CJG"
      }
    },
    {
      "cell_type": "code",
      "source": [
        "# join flights_with_airline + airports_df\n",
        "\n",
        "flights_with_origin_airport=flights_with_airline.join(\n",
        "    airports_df,\n",
        "    flights_with_airline.ORIGIN_AIRPORT==airports_df.IATA_CODE,\n",
        "    how=\"left\"\n",
        ")\n",
        "\n",
        "flights_with_origin_airport = flights_with_origin_airport.select(\n",
        "    \"AIRLINE_NAME\",\n",
        "    \"ORIGIN_AIRPORT\",\n",
        "    \"CITY\",\n",
        "    \"STATE\",\n",
        "    \"DEPARTURE_DELAY\"\n",
        ")\n",
        "flights_with_origin_airport.show(5)"
      ],
      "metadata": {
        "colab": {
          "base_uri": "https://localhost:8080/"
        },
        "id": "ckP1QOR_7MXK",
        "outputId": "e1c3260e-bef4-4c72-8c17-7c2dfe5d6440"
      },
      "execution_count": 26,
      "outputs": [
        {
          "output_type": "stream",
          "name": "stdout",
          "text": [
            "+--------------------+--------------+-------------+-----+---------------+\n",
            "|        AIRLINE_NAME|ORIGIN_AIRPORT|         CITY|STATE|DEPARTURE_DELAY|\n",
            "+--------------------+--------------+-------------+-----+---------------+\n",
            "|Alaska Airlines Inc.|           ANC|    Anchorage|   AK|            -11|\n",
            "|American Airlines...|           LAX|  Los Angeles|   CA|             -8|\n",
            "|     US Airways Inc.|           SFO|San Francisco|   CA|             -2|\n",
            "|American Airlines...|           LAX|  Los Angeles|   CA|             -5|\n",
            "|Alaska Airlines Inc.|           SEA|      Seattle|   WA|             -1|\n",
            "+--------------------+--------------+-------------+-----+---------------+\n",
            "only showing top 5 rows\n",
            "\n"
          ]
        }
      ]
    },
    {
      "cell_type": "markdown",
      "source": [
        "## 🧹 Fill Missing Data\n",
        "Missing values are replaced with:\n",
        "- `\"Unknown Airline\"`\n",
        "- `\"Unknown City\"`\n",
        "- `0` for delay columns\n"
      ],
      "metadata": {
        "id": "XoroT5w7Imv-"
      }
    },
    {
      "cell_type": "code",
      "source": [
        "# Fill missing airline names with 'Unknown'\n",
        "filled_flights = flights_with_origin_airport.fillna({\n",
        "    \"AIRLINE_NAME\": \"Unknown Airline\",\n",
        "    \"CITY\": \"Unknown City\",\n",
        "    \"STATE\": \"Unknown State\",\n",
        "    \"DEPARTURE_DELAY\": 0\n",
        "})\n",
        "\n",
        "filled_flights.show(5)"
      ],
      "metadata": {
        "colab": {
          "base_uri": "https://localhost:8080/"
        },
        "id": "54-DFUabCmDu",
        "outputId": "611cca68-d710-4c02-8893-7f562fcc1912"
      },
      "execution_count": 28,
      "outputs": [
        {
          "output_type": "stream",
          "name": "stdout",
          "text": [
            "+--------------------+--------------+-------------+-----+---------------+\n",
            "|        AIRLINE_NAME|ORIGIN_AIRPORT|         CITY|STATE|DEPARTURE_DELAY|\n",
            "+--------------------+--------------+-------------+-----+---------------+\n",
            "|Alaska Airlines Inc.|           ANC|    Anchorage|   AK|            -11|\n",
            "|American Airlines...|           LAX|  Los Angeles|   CA|             -8|\n",
            "|     US Airways Inc.|           SFO|San Francisco|   CA|             -2|\n",
            "|American Airlines...|           LAX|  Los Angeles|   CA|             -5|\n",
            "|Alaska Airlines Inc.|           SEA|      Seattle|   WA|             -1|\n",
            "+--------------------+--------------+-------------+-----+---------------+\n",
            "only showing top 5 rows\n",
            "\n"
          ]
        }
      ]
    },
    {
      "cell_type": "markdown",
      "source": [
        "### 1️⃣ Busiest Origin Cities"
      ],
      "metadata": {
        "id": "TxmJwdmVBpLf"
      }
    },
    {
      "cell_type": "code",
      "source": [
        "# Count total flights per city\n",
        "filled_flights.groupBy(\"CITY\").count().orderBy(\"count\",ascending=False).show(10)"
      ],
      "metadata": {
        "colab": {
          "base_uri": "https://localhost:8080/"
        },
        "id": "3zbuy4D3Bt1I",
        "outputId": "0f5dc2a0-10a6-4576-cde4-cb150dd4e4e1"
      },
      "execution_count": 29,
      "outputs": [
        {
          "output_type": "stream",
          "name": "stdout",
          "text": [
            "+-----------------+------+\n",
            "|             CITY| count|\n",
            "+-----------------+------+\n",
            "|     Unknown City|486165|\n",
            "|          Chicago|366770|\n",
            "|          Atlanta|346836|\n",
            "|Dallas-Fort Worth|239551|\n",
            "|          Houston|198664|\n",
            "|           Denver|196055|\n",
            "|      Los Angeles|194673|\n",
            "|         New York|193416|\n",
            "|    San Francisco|148008|\n",
            "|          Phoenix|146815|\n",
            "+-----------------+------+\n",
            "only showing top 10 rows\n",
            "\n"
          ]
        }
      ]
    },
    {
      "cell_type": "markdown",
      "source": [
        "###2️⃣ Count total flights per airline"
      ],
      "metadata": {
        "id": "om9WnoJqDQuR"
      }
    },
    {
      "cell_type": "code",
      "source": [
        "# Total flights per airline\n",
        "filled_flights.groupBy(\"AIRLINE_NAME\").count().orderBy(\"count\", ascending=False).show(10)"
      ],
      "metadata": {
        "colab": {
          "base_uri": "https://localhost:8080/"
        },
        "id": "WBBkpf_a95av",
        "outputId": "d0674c07-cd79-4083-cb82-34e185d99431"
      },
      "execution_count": 30,
      "outputs": [
        {
          "output_type": "stream",
          "name": "stdout",
          "text": [
            "+--------------------+-------+\n",
            "|        AIRLINE_NAME|  count|\n",
            "+--------------------+-------+\n",
            "|Southwest Airline...|1261855|\n",
            "|Delta Air Lines Inc.| 875881|\n",
            "|American Airlines...| 725984|\n",
            "|Skywest Airlines ...| 588353|\n",
            "|Atlantic Southeas...| 571977|\n",
            "|United Air Lines ...| 515723|\n",
            "|American Eagle Ai...| 294632|\n",
            "|     JetBlue Airways| 267048|\n",
            "|     US Airways Inc.| 198715|\n",
            "|Alaska Airlines Inc.| 172521|\n",
            "+--------------------+-------+\n",
            "only showing top 10 rows\n",
            "\n"
          ]
        }
      ]
    },
    {
      "cell_type": "markdown",
      "source": [
        "### 3️⃣ Average departure delay per city"
      ],
      "metadata": {
        "id": "I9GodwSwDl9y"
      }
    },
    {
      "cell_type": "code",
      "source": [
        "# Average departure delay for each city\n",
        "filled_flights.groupBy(\"CITY\").avg(\"DEPARTURE_DELAY\").orderBy(\"avg(DEPARTURE_DELAY)\", ascending=False).show(10)\n"
      ],
      "metadata": {
        "colab": {
          "base_uri": "https://localhost:8080/"
        },
        "id": "LYGKPfasDY3_",
        "outputId": "c4cbcfe5-af92-476a-9383-f9e9ecbced68"
      },
      "execution_count": 31,
      "outputs": [
        {
          "output_type": "stream",
          "name": "stdout",
          "text": [
            "+--------------------+--------------------+\n",
            "|                CITY|avg(DEPARTURE_DELAY)|\n",
            "+--------------------+--------------------+\n",
            "|    Marthas Vineyard|   25.90731707317073|\n",
            "|             Hyannis|  22.903614457831324|\n",
            "|            St Cloud|  17.566265060240966|\n",
            "|          North Bend|  17.130909090909093|\n",
            "|            Gustavus|  16.948051948051948|\n",
            "|               Agana|  16.547904191616766|\n",
            "|               Aspen|  16.244525547445257|\n",
            "|           Nantucket|    16.1890243902439|\n",
            "|       Crescent City|  15.947368421052632|\n",
            "|Beaumont/Port Arthur|  15.936279547790338|\n",
            "+--------------------+--------------------+\n",
            "only showing top 10 rows\n",
            "\n"
          ]
        }
      ]
    },
    {
      "cell_type": "markdown",
      "source": [
        "### 4️⃣ Average departure delay per airline"
      ],
      "metadata": {
        "id": "O8Yk_qZdEADY"
      }
    },
    {
      "cell_type": "code",
      "source": [
        "# Average departure delay for each airline\n",
        "filled_flights.groupBy(\"AIRLINE_NAME\").avg(\"DEPARTURE_DELAY\").orderBy(\"avg(DEPARTURE_DELAY)\", ascending=False).show(10)\n"
      ],
      "metadata": {
        "colab": {
          "base_uri": "https://localhost:8080/"
        },
        "id": "cHIbJY3dDxPl",
        "outputId": "e87144d9-05e0-4799-8d15-10abd14c9ebe"
      },
      "execution_count": 32,
      "outputs": [
        {
          "output_type": "stream",
          "name": "stdout",
          "text": [
            "+--------------------+--------------------+\n",
            "|        AIRLINE_NAME|avg(DEPARTURE_DELAY)|\n",
            "+--------------------+--------------------+\n",
            "|    Spirit Air Lines|   15.68327383944317|\n",
            "|United Air Lines ...|   14.26220664969373|\n",
            "|Frontier Airlines...|   13.27060856928971|\n",
            "|     JetBlue Airways|  11.333044995656211|\n",
            "|Southwest Airline...|  10.450107183471951|\n",
            "|American Eagle Ai...|    9.63204268375465|\n",
            "|      Virgin America|   8.947094648078446|\n",
            "|American Airlines...|   8.773519802089302|\n",
            "|Atlantic Southeas...|    8.49219111957299|\n",
            "|Skywest Airlines ...|    7.67823058605973|\n",
            "+--------------------+--------------------+\n",
            "only showing top 10 rows\n",
            "\n"
          ]
        }
      ]
    },
    {
      "cell_type": "markdown",
      "source": [
        "### 5️⃣ Average arrival delay per city"
      ],
      "metadata": {
        "id": "nKXjApNGE57d"
      }
    },
    {
      "cell_type": "code",
      "source": [
        "# Average arrival delay for each city\n",
        "filled_flights.groupBy(\"CITY\").avg(\"ARRIVAL_DELAY\").orderBy(\"avg(ARRIVAL_DELAY)\", ascending=False).show(10)\n"
      ],
      "metadata": {
        "id": "yt0RPaJiE5rC"
      },
      "execution_count": null,
      "outputs": []
    },
    {
      "cell_type": "markdown",
      "source": [
        "### 7️⃣ Filter big delays (> 1 hour)"
      ],
      "metadata": {
        "id": "hBkFcphXEBbp"
      }
    },
    {
      "cell_type": "code",
      "source": [
        "# Flights delayed more than 60 mins\n",
        "big_delays = filled_flights.filter(filled_flights.DEPARTURE_DELAY > 60)\n",
        "big_delays.show(5)\n",
        "\n",
        "print(\"Total flights delayed more than 60 mins:\", big_delays.count())\n"
      ],
      "metadata": {
        "colab": {
          "base_uri": "https://localhost:8080/"
        },
        "id": "Sjz4piN7FKCU",
        "outputId": "b1c25dd3-37bb-4d0b-8122-70e99c199ea2"
      },
      "execution_count": 33,
      "outputs": [
        {
          "output_type": "stream",
          "name": "stdout",
          "text": [
            "+--------------------+--------------+-----------------+-----+---------------+\n",
            "|        AIRLINE_NAME|ORIGIN_AIRPORT|             CITY|STATE|DEPARTURE_DELAY|\n",
            "+--------------------+--------------+-----------------+-----+---------------+\n",
            "|    Spirit Air Lines|           PHX|          Phoenix|   AZ|             72|\n",
            "|     JetBlue Airways|           SJU|         San Juan|   PR|             95|\n",
            "|     JetBlue Airways|           SJU|         San Juan|   PR|             72|\n",
            "|American Airlines...|           DFW|Dallas-Fort Worth|   TX|            108|\n",
            "|Delta Air Lines Inc.|           PHX|          Phoenix|   AZ|            148|\n",
            "+--------------------+--------------+-----------------+-----+---------------+\n",
            "only showing top 5 rows\n",
            "\n",
            "Total flights delayed more than 60 mins: 324171\n"
          ]
        }
      ]
    },
    {
      "cell_type": "markdown",
      "source": [
        "### Total Cancelled vs Not Cancelled"
      ],
      "metadata": {
        "id": "jESjKTKjGTGZ"
      }
    },
    {
      "cell_type": "code",
      "source": [
        "## Use the original flights_df for this:\n",
        "flights_df.groupBy(\"CANCELLED\").count().show()"
      ],
      "metadata": {
        "colab": {
          "base_uri": "https://localhost:8080/"
        },
        "id": "ejNtqZ6zGUTA",
        "outputId": "f2b0ddc7-af8a-42b1-910d-51bf48e3f43d"
      },
      "execution_count": 34,
      "outputs": [
        {
          "output_type": "stream",
          "name": "stdout",
          "text": [
            "+---------+-------+\n",
            "|CANCELLED|  count|\n",
            "+---------+-------+\n",
            "|        1|  89884|\n",
            "|        0|5729195|\n",
            "+---------+-------+\n",
            "\n"
          ]
        }
      ]
    },
    {
      "cell_type": "markdown",
      "source": [
        "### Flights per Month"
      ],
      "metadata": {
        "id": "k47nTaoOGjFE"
      }
    },
    {
      "cell_type": "code",
      "source": [
        "flights_df.groupBy(\"MONTH\").count().orderBy(\"MONTH\").show()"
      ],
      "metadata": {
        "colab": {
          "base_uri": "https://localhost:8080/"
        },
        "id": "n39cn-kMGR7l",
        "outputId": "ff9f1ae1-1e11-4348-8a4a-96f4c3bff107"
      },
      "execution_count": 35,
      "outputs": [
        {
          "output_type": "stream",
          "name": "stdout",
          "text": [
            "+-----+------+\n",
            "|MONTH| count|\n",
            "+-----+------+\n",
            "|    1|469968|\n",
            "|    2|429191|\n",
            "|    3|504312|\n",
            "|    4|485151|\n",
            "|    5|496993|\n",
            "|    6|503897|\n",
            "|    7|520718|\n",
            "|    8|510536|\n",
            "|    9|464946|\n",
            "|   10|486165|\n",
            "|   11|467972|\n",
            "|   12|479230|\n",
            "+-----+------+\n",
            "\n"
          ]
        }
      ]
    },
    {
      "cell_type": "markdown",
      "source": [
        "### 8️⃣ Save one result to CSV"
      ],
      "metadata": {
        "id": "qN-PJBSaHBN2"
      }
    },
    {
      "cell_type": "code",
      "source": [
        "# Save avg departure delay by airline\n",
        "avg_delay_airline = filled_flights.groupBy(\"AIRLINE_NAME\").avg(\"DEPARTURE_DELAY\")\n",
        "avg_delay_airline.write.csv(\"avg_departure_delay_by_airline.csv\")"
      ],
      "metadata": {
        "id": "iIOpymW8Fl5o"
      },
      "execution_count": 36,
      "outputs": []
    },
    {
      "cell_type": "markdown",
      "source": [
        "## ✅ Conclusion\n",
        "- We analyzed US flights for delays.\n",
        "- We joined **big data**: multiple CSVs.\n",
        "- We filled missing data.\n",
        "- We grouped and found the busiest cities, worst airlines, and biggest delays.\n",
        "- We saved results for reporting.\n",
        "\n",
        "🎉 **This is a complete Big Data PySpark mini project!**\n"
      ],
      "metadata": {
        "id": "90KKG804IusA"
      }
    }
  ]
}